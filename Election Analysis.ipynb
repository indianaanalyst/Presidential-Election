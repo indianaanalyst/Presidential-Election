{
 "cells": [
  {
   "cell_type": "code",
   "execution_count": 2,
   "metadata": {},
   "outputs": [],
   "source": [
    "import pandas as pd\n",
    "import numpy as np\n",
    "import matplotlib.pyplot as plt\n",
    "import statsmodels.formula.api as smf\n"
   ]
  },
  {
   "cell_type": "code",
   "execution_count": 5,
   "metadata": {},
   "outputs": [],
   "source": [
    "# Every state election data since 1976 with votes for each state along with party name and incumbent name. \n",
    "# Elections: 1976-2016\n",
    "df = pd.read_csv(r'C:\\Downloads\\1976-2016-president.csv')\n",
    "# Arizona data will not be able to be used. "
   ]
  },
  {
   "cell_type": "code",
   "execution_count": 6,
   "metadata": {},
   "outputs": [
    {
     "data": {
      "text/html": [
       "<div>\n",
       "<style scoped>\n",
       "    .dataframe tbody tr th:only-of-type {\n",
       "        vertical-align: middle;\n",
       "    }\n",
       "\n",
       "    .dataframe tbody tr th {\n",
       "        vertical-align: top;\n",
       "    }\n",
       "\n",
       "    .dataframe thead th {\n",
       "        text-align: right;\n",
       "    }\n",
       "</style>\n",
       "<table border=\"1\" class=\"dataframe\">\n",
       "  <thead>\n",
       "    <tr style=\"text-align: right;\">\n",
       "      <th></th>\n",
       "      <th>year</th>\n",
       "      <th>state</th>\n",
       "      <th>state_po</th>\n",
       "      <th>state_fips</th>\n",
       "      <th>state_cen</th>\n",
       "      <th>state_ic</th>\n",
       "      <th>office</th>\n",
       "      <th>candidate</th>\n",
       "      <th>party</th>\n",
       "      <th>writein</th>\n",
       "      <th>candidatevotes</th>\n",
       "      <th>totalvotes</th>\n",
       "      <th>version</th>\n",
       "      <th>notes</th>\n",
       "    </tr>\n",
       "  </thead>\n",
       "  <tbody>\n",
       "    <tr>\n",
       "      <th>0</th>\n",
       "      <td>1976</td>\n",
       "      <td>Alabama</td>\n",
       "      <td>AL</td>\n",
       "      <td>1</td>\n",
       "      <td>63</td>\n",
       "      <td>41</td>\n",
       "      <td>US President</td>\n",
       "      <td>Carter, Jimmy</td>\n",
       "      <td>democrat</td>\n",
       "      <td>False</td>\n",
       "      <td>659170</td>\n",
       "      <td>1182850</td>\n",
       "      <td>20171015</td>\n",
       "      <td>NaN</td>\n",
       "    </tr>\n",
       "    <tr>\n",
       "      <th>1</th>\n",
       "      <td>1976</td>\n",
       "      <td>Alabama</td>\n",
       "      <td>AL</td>\n",
       "      <td>1</td>\n",
       "      <td>63</td>\n",
       "      <td>41</td>\n",
       "      <td>US President</td>\n",
       "      <td>Ford, Gerald</td>\n",
       "      <td>republican</td>\n",
       "      <td>False</td>\n",
       "      <td>504070</td>\n",
       "      <td>1182850</td>\n",
       "      <td>20171015</td>\n",
       "      <td>NaN</td>\n",
       "    </tr>\n",
       "    <tr>\n",
       "      <th>2</th>\n",
       "      <td>1976</td>\n",
       "      <td>Alabama</td>\n",
       "      <td>AL</td>\n",
       "      <td>1</td>\n",
       "      <td>63</td>\n",
       "      <td>41</td>\n",
       "      <td>US President</td>\n",
       "      <td>Maddox, Lester</td>\n",
       "      <td>american independent party</td>\n",
       "      <td>False</td>\n",
       "      <td>9198</td>\n",
       "      <td>1182850</td>\n",
       "      <td>20171015</td>\n",
       "      <td>NaN</td>\n",
       "    </tr>\n",
       "    <tr>\n",
       "      <th>3</th>\n",
       "      <td>1976</td>\n",
       "      <td>Alabama</td>\n",
       "      <td>AL</td>\n",
       "      <td>1</td>\n",
       "      <td>63</td>\n",
       "      <td>41</td>\n",
       "      <td>US President</td>\n",
       "      <td>Bubar, Benjamin \"\"Ben\"\"</td>\n",
       "      <td>prohibition</td>\n",
       "      <td>False</td>\n",
       "      <td>6669</td>\n",
       "      <td>1182850</td>\n",
       "      <td>20171015</td>\n",
       "      <td>NaN</td>\n",
       "    </tr>\n",
       "    <tr>\n",
       "      <th>4</th>\n",
       "      <td>1976</td>\n",
       "      <td>Alabama</td>\n",
       "      <td>AL</td>\n",
       "      <td>1</td>\n",
       "      <td>63</td>\n",
       "      <td>41</td>\n",
       "      <td>US President</td>\n",
       "      <td>Hall, Gus</td>\n",
       "      <td>communist party use</td>\n",
       "      <td>False</td>\n",
       "      <td>1954</td>\n",
       "      <td>1182850</td>\n",
       "      <td>20171015</td>\n",
       "      <td>NaN</td>\n",
       "    </tr>\n",
       "  </tbody>\n",
       "</table>\n",
       "</div>"
      ],
      "text/plain": [
       "   year    state state_po  state_fips  state_cen  state_ic        office  \\\n",
       "0  1976  Alabama       AL           1         63        41  US President   \n",
       "1  1976  Alabama       AL           1         63        41  US President   \n",
       "2  1976  Alabama       AL           1         63        41  US President   \n",
       "3  1976  Alabama       AL           1         63        41  US President   \n",
       "4  1976  Alabama       AL           1         63        41  US President   \n",
       "\n",
       "                 candidate                       party  writein  \\\n",
       "0            Carter, Jimmy                    democrat    False   \n",
       "1             Ford, Gerald                  republican    False   \n",
       "2           Maddox, Lester  american independent party    False   \n",
       "3  Bubar, Benjamin \"\"Ben\"\"                 prohibition    False   \n",
       "4                Hall, Gus         communist party use    False   \n",
       "\n",
       "   candidatevotes  totalvotes   version  notes  \n",
       "0          659170     1182850  20171015    NaN  \n",
       "1          504070     1182850  20171015    NaN  \n",
       "2            9198     1182850  20171015    NaN  \n",
       "3            6669     1182850  20171015    NaN  \n",
       "4            1954     1182850  20171015    NaN  "
      ]
     },
     "execution_count": 6,
     "metadata": {},
     "output_type": "execute_result"
    }
   ],
   "source": [
    "df.head()"
   ]
  },
  {
   "cell_type": "code",
   "execution_count": 7,
   "metadata": {},
   "outputs": [],
   "source": [
    "# Create new columns called percent. Getting the percent of votes for each candidate.\n",
    "df['Percent'] = df['candidatevotes']/df['totalvotes']"
   ]
  },
  {
   "cell_type": "code",
   "execution_count": 8,
   "metadata": {},
   "outputs": [
    {
     "data": {
      "text/plain": [
       "Index(['year', 'state', 'state_po', 'state_fips', 'state_cen', 'state_ic',\n",
       "       'office', 'candidate', 'party', 'writein', 'candidatevotes',\n",
       "       'totalvotes', 'version', 'notes', 'Percent'],\n",
       "      dtype='object')"
      ]
     },
     "execution_count": 8,
     "metadata": {},
     "output_type": "execute_result"
    }
   ],
   "source": [
    "df.columns"
   ]
  },
  {
   "cell_type": "code",
   "execution_count": 9,
   "metadata": {},
   "outputs": [],
   "source": [
    "# Select the columns you wish to drop.\n",
    "to_drop = ['state_po',\n",
    "          'state_fips',\n",
    "          'state_cen',\n",
    "          'state_ic',\n",
    "          'office',\n",
    "          'writein',\n",
    "          'version',\n",
    "          'notes']"
   ]
  },
  {
   "cell_type": "code",
   "execution_count": 10,
   "metadata": {},
   "outputs": [],
   "source": [
    "df.drop(to_drop, inplace=True, axis=1)"
   ]
  },
  {
   "cell_type": "code",
   "execution_count": 11,
   "metadata": {},
   "outputs": [
    {
     "data": {
      "text/html": [
       "<div>\n",
       "<style scoped>\n",
       "    .dataframe tbody tr th:only-of-type {\n",
       "        vertical-align: middle;\n",
       "    }\n",
       "\n",
       "    .dataframe tbody tr th {\n",
       "        vertical-align: top;\n",
       "    }\n",
       "\n",
       "    .dataframe thead th {\n",
       "        text-align: right;\n",
       "    }\n",
       "</style>\n",
       "<table border=\"1\" class=\"dataframe\">\n",
       "  <thead>\n",
       "    <tr style=\"text-align: right;\">\n",
       "      <th></th>\n",
       "      <th>year</th>\n",
       "      <th>state</th>\n",
       "      <th>candidate</th>\n",
       "      <th>party</th>\n",
       "      <th>candidatevotes</th>\n",
       "      <th>totalvotes</th>\n",
       "      <th>Percent</th>\n",
       "    </tr>\n",
       "  </thead>\n",
       "  <tbody>\n",
       "    <tr>\n",
       "      <th>0</th>\n",
       "      <td>1976</td>\n",
       "      <td>Alabama</td>\n",
       "      <td>Carter, Jimmy</td>\n",
       "      <td>democrat</td>\n",
       "      <td>659170</td>\n",
       "      <td>1182850</td>\n",
       "      <td>0.557273</td>\n",
       "    </tr>\n",
       "    <tr>\n",
       "      <th>1</th>\n",
       "      <td>1976</td>\n",
       "      <td>Alabama</td>\n",
       "      <td>Ford, Gerald</td>\n",
       "      <td>republican</td>\n",
       "      <td>504070</td>\n",
       "      <td>1182850</td>\n",
       "      <td>0.426149</td>\n",
       "    </tr>\n",
       "    <tr>\n",
       "      <th>2</th>\n",
       "      <td>1976</td>\n",
       "      <td>Alabama</td>\n",
       "      <td>Maddox, Lester</td>\n",
       "      <td>american independent party</td>\n",
       "      <td>9198</td>\n",
       "      <td>1182850</td>\n",
       "      <td>0.007776</td>\n",
       "    </tr>\n",
       "    <tr>\n",
       "      <th>3</th>\n",
       "      <td>1976</td>\n",
       "      <td>Alabama</td>\n",
       "      <td>Bubar, Benjamin \"\"Ben\"\"</td>\n",
       "      <td>prohibition</td>\n",
       "      <td>6669</td>\n",
       "      <td>1182850</td>\n",
       "      <td>0.005638</td>\n",
       "    </tr>\n",
       "    <tr>\n",
       "      <th>4</th>\n",
       "      <td>1976</td>\n",
       "      <td>Alabama</td>\n",
       "      <td>Hall, Gus</td>\n",
       "      <td>communist party use</td>\n",
       "      <td>1954</td>\n",
       "      <td>1182850</td>\n",
       "      <td>0.001652</td>\n",
       "    </tr>\n",
       "    <tr>\n",
       "      <th>...</th>\n",
       "      <td>...</td>\n",
       "      <td>...</td>\n",
       "      <td>...</td>\n",
       "      <td>...</td>\n",
       "      <td>...</td>\n",
       "      <td>...</td>\n",
       "      <td>...</td>\n",
       "    </tr>\n",
       "    <tr>\n",
       "      <th>3735</th>\n",
       "      <td>2016</td>\n",
       "      <td>Wyoming</td>\n",
       "      <td>NaN</td>\n",
       "      <td>NaN</td>\n",
       "      <td>6904</td>\n",
       "      <td>258788</td>\n",
       "      <td>0.026678</td>\n",
       "    </tr>\n",
       "    <tr>\n",
       "      <th>3736</th>\n",
       "      <td>2016</td>\n",
       "      <td>Wyoming</td>\n",
       "      <td>NaN</td>\n",
       "      <td>independent</td>\n",
       "      <td>3224</td>\n",
       "      <td>258788</td>\n",
       "      <td>0.012458</td>\n",
       "    </tr>\n",
       "    <tr>\n",
       "      <th>3737</th>\n",
       "      <td>2016</td>\n",
       "      <td>Wyoming</td>\n",
       "      <td>Blank Vote</td>\n",
       "      <td>NaN</td>\n",
       "      <td>2661</td>\n",
       "      <td>258788</td>\n",
       "      <td>0.010283</td>\n",
       "    </tr>\n",
       "    <tr>\n",
       "      <th>3738</th>\n",
       "      <td>2016</td>\n",
       "      <td>Wyoming</td>\n",
       "      <td>Castle, Darrell L.</td>\n",
       "      <td>constitution party</td>\n",
       "      <td>2042</td>\n",
       "      <td>258788</td>\n",
       "      <td>0.007891</td>\n",
       "    </tr>\n",
       "    <tr>\n",
       "      <th>3739</th>\n",
       "      <td>2016</td>\n",
       "      <td>Wyoming</td>\n",
       "      <td>Over Vote</td>\n",
       "      <td>NaN</td>\n",
       "      <td>278</td>\n",
       "      <td>258788</td>\n",
       "      <td>0.001074</td>\n",
       "    </tr>\n",
       "  </tbody>\n",
       "</table>\n",
       "<p>3740 rows × 7 columns</p>\n",
       "</div>"
      ],
      "text/plain": [
       "      year    state                candidate                       party  \\\n",
       "0     1976  Alabama            Carter, Jimmy                    democrat   \n",
       "1     1976  Alabama             Ford, Gerald                  republican   \n",
       "2     1976  Alabama           Maddox, Lester  american independent party   \n",
       "3     1976  Alabama  Bubar, Benjamin \"\"Ben\"\"                 prohibition   \n",
       "4     1976  Alabama                Hall, Gus         communist party use   \n",
       "...    ...      ...                      ...                         ...   \n",
       "3735  2016  Wyoming                      NaN                         NaN   \n",
       "3736  2016  Wyoming                      NaN                 independent   \n",
       "3737  2016  Wyoming               Blank Vote                         NaN   \n",
       "3738  2016  Wyoming       Castle, Darrell L.          constitution party   \n",
       "3739  2016  Wyoming                Over Vote                         NaN   \n",
       "\n",
       "      candidatevotes  totalvotes   Percent  \n",
       "0             659170     1182850  0.557273  \n",
       "1             504070     1182850  0.426149  \n",
       "2               9198     1182850  0.007776  \n",
       "3               6669     1182850  0.005638  \n",
       "4               1954     1182850  0.001652  \n",
       "...              ...         ...       ...  \n",
       "3735            6904      258788  0.026678  \n",
       "3736            3224      258788  0.012458  \n",
       "3737            2661      258788  0.010283  \n",
       "3738            2042      258788  0.007891  \n",
       "3739             278      258788  0.001074  \n",
       "\n",
       "[3740 rows x 7 columns]"
      ]
     },
     "execution_count": 11,
     "metadata": {},
     "output_type": "execute_result"
    }
   ],
   "source": [
    "df"
   ]
  },
  {
   "cell_type": "code",
   "execution_count": 12,
   "metadata": {},
   "outputs": [],
   "source": [
    "# Creating function that determines historical percentage for each state with respect to party.\n",
    "def state_leaning(x=''):\n",
    "    \"\"\"\n",
    "    Represent state leanings based on political party.\n",
    "    \"\"\"\n",
    "   \n",
    "    state = df[df['state']==x]\n",
    "    est = smf.ols('Percent ~ party', state).fit()\n",
    "    return est.summary()"
   ]
  },
  {
   "cell_type": "code",
   "execution_count": 13,
   "metadata": {},
   "outputs": [
    {
     "data": {
      "text/html": [
       "<table class=\"simpletable\">\n",
       "<caption>OLS Regression Results</caption>\n",
       "<tr>\n",
       "  <th>Dep. Variable:</th>         <td>Percent</td>     <th>  R-squared:         </th> <td>   0.974</td>\n",
       "</tr>\n",
       "<tr>\n",
       "  <th>Model:</th>                   <td>OLS</td>       <th>  Adj. R-squared:    </th> <td>   0.965</td>\n",
       "</tr>\n",
       "<tr>\n",
       "  <th>Method:</th>             <td>Least Squares</td>  <th>  F-statistic:       </th> <td>   108.6</td>\n",
       "</tr>\n",
       "<tr>\n",
       "  <th>Date:</th>             <td>Thu, 17 Dec 2020</td> <th>  Prob (F-statistic):</th> <td>8.83e-28</td>\n",
       "</tr>\n",
       "<tr>\n",
       "  <th>Time:</th>                 <td>13:56:33</td>     <th>  Log-Likelihood:    </th> <td>  104.32</td>\n",
       "</tr>\n",
       "<tr>\n",
       "  <th>No. Observations:</th>      <td>    56</td>      <th>  AIC:               </th> <td>  -178.6</td>\n",
       "</tr>\n",
       "<tr>\n",
       "  <th>Df Residuals:</th>          <td>    41</td>      <th>  BIC:               </th> <td>  -148.3</td>\n",
       "</tr>\n",
       "<tr>\n",
       "  <th>Df Model:</th>              <td>    14</td>      <th>                     </th>     <td> </td>   \n",
       "</tr>\n",
       "<tr>\n",
       "  <th>Covariance Type:</th>      <td>nonrobust</td>    <th>                     </th>     <td> </td>   \n",
       "</tr>\n",
       "</table>\n",
       "<table class=\"simpletable\">\n",
       "<tr>\n",
       "                <td></td>                   <th>coef</th>     <th>std err</th>      <th>t</th>      <th>P>|t|</th>  <th>[0.025</th>    <th>0.975]</th>  \n",
       "</tr>\n",
       "<tr>\n",
       "  <th>Intercept</th>                     <td>    0.0098</td> <td>    0.044</td> <td>    0.224</td> <td> 0.824</td> <td>   -0.079</td> <td>    0.098</td>\n",
       "</tr>\n",
       "<tr>\n",
       "  <th>party[T.citizens]</th>             <td>   -0.0023</td> <td>    0.062</td> <td>   -0.037</td> <td> 0.970</td> <td>   -0.128</td> <td>    0.123</td>\n",
       "</tr>\n",
       "<tr>\n",
       "  <th>party[T.conservative]</th>         <td>   -0.0092</td> <td>    0.062</td> <td>   -0.148</td> <td> 0.883</td> <td>   -0.135</td> <td>    0.116</td>\n",
       "</tr>\n",
       "<tr>\n",
       "  <th>party[T.constitution party]</th>   <td>   -0.0065</td> <td>    0.054</td> <td>   -0.122</td> <td> 0.904</td> <td>   -0.115</td> <td>    0.102</td>\n",
       "</tr>\n",
       "<tr>\n",
       "  <th>party[T.democrat]</th>             <td>    0.4391</td> <td>    0.046</td> <td>    9.578</td> <td> 0.000</td> <td>    0.347</td> <td>    0.532</td>\n",
       "</tr>\n",
       "<tr>\n",
       "  <th>party[T.green]</th>                <td>   -0.0020</td> <td>    0.049</td> <td>   -0.040</td> <td> 0.968</td> <td>   -0.101</td> <td>    0.097</td>\n",
       "</tr>\n",
       "<tr>\n",
       "  <th>party[T.independent]</th>          <td>    0.0220</td> <td>    0.047</td> <td>    0.468</td> <td> 0.642</td> <td>   -0.073</td> <td>    0.117</td>\n",
       "</tr>\n",
       "<tr>\n",
       "  <th>party[T.independent green]</th>    <td>   -0.0078</td> <td>    0.062</td> <td>   -0.126</td> <td> 0.900</td> <td>   -0.133</td> <td>    0.118</td>\n",
       "</tr>\n",
       "<tr>\n",
       "  <th>party[T.libertarian]</th>          <td>   -0.0029</td> <td>    0.046</td> <td>   -0.063</td> <td> 0.950</td> <td>   -0.096</td> <td>    0.090</td>\n",
       "</tr>\n",
       "<tr>\n",
       "  <th>party[T.natural law]</th>          <td>   -0.0080</td> <td>    0.062</td> <td>   -0.128</td> <td> 0.899</td> <td>   -0.133</td> <td>    0.117</td>\n",
       "</tr>\n",
       "<tr>\n",
       "  <th>party[T.reform party]</th>         <td>    0.0242</td> <td>    0.054</td> <td>    0.451</td> <td> 0.654</td> <td>   -0.084</td> <td>    0.133</td>\n",
       "</tr>\n",
       "<tr>\n",
       "  <th>party[T.republican]</th>           <td>    0.4999</td> <td>    0.046</td> <td>   10.903</td> <td> 0.000</td> <td>    0.407</td> <td>    0.592</td>\n",
       "</tr>\n",
       "<tr>\n",
       "  <th>party[T.socialist workers]</th>    <td>   -0.0041</td> <td>    0.054</td> <td>   -0.075</td> <td> 0.940</td> <td>   -0.113</td> <td>    0.105</td>\n",
       "</tr>\n",
       "<tr>\n",
       "  <th>party[T.u.s. labor]</th>           <td>   -0.0054</td> <td>    0.062</td> <td>   -0.087</td> <td> 0.931</td> <td>   -0.131</td> <td>    0.120</td>\n",
       "</tr>\n",
       "<tr>\n",
       "  <th>party[T.u.s. taxpayers party]</th> <td>   -0.0042</td> <td>    0.062</td> <td>   -0.067</td> <td> 0.947</td> <td>   -0.130</td> <td>    0.121</td>\n",
       "</tr>\n",
       "</table>\n",
       "<table class=\"simpletable\">\n",
       "<tr>\n",
       "  <th>Omnibus:</th>       <td>11.251</td> <th>  Durbin-Watson:     </th> <td>   2.749</td>\n",
       "</tr>\n",
       "<tr>\n",
       "  <th>Prob(Omnibus):</th> <td> 0.004</td> <th>  Jarque-Bera (JB):  </th> <td>  12.066</td>\n",
       "</tr>\n",
       "<tr>\n",
       "  <th>Skew:</th>          <td> 0.858</td> <th>  Prob(JB):          </th> <td> 0.00240</td>\n",
       "</tr>\n",
       "<tr>\n",
       "  <th>Kurtosis:</th>      <td> 4.491</td> <th>  Cond. No.          </th> <td>    31.5</td>\n",
       "</tr>\n",
       "</table><br/><br/>Warnings:<br/>[1] Standard Errors assume that the covariance matrix of the errors is correctly specified."
      ],
      "text/plain": [
       "<class 'statsmodels.iolib.summary.Summary'>\n",
       "\"\"\"\n",
       "                            OLS Regression Results                            \n",
       "==============================================================================\n",
       "Dep. Variable:                Percent   R-squared:                       0.974\n",
       "Model:                            OLS   Adj. R-squared:                  0.965\n",
       "Method:                 Least Squares   F-statistic:                     108.6\n",
       "Date:                Thu, 17 Dec 2020   Prob (F-statistic):           8.83e-28\n",
       "Time:                        13:56:33   Log-Likelihood:                 104.32\n",
       "No. Observations:                  56   AIC:                            -178.6\n",
       "Df Residuals:                      41   BIC:                            -148.3\n",
       "Df Model:                          14                                         \n",
       "Covariance Type:            nonrobust                                         \n",
       "=================================================================================================\n",
       "                                    coef    std err          t      P>|t|      [0.025      0.975]\n",
       "-------------------------------------------------------------------------------------------------\n",
       "Intercept                         0.0098      0.044      0.224      0.824      -0.079       0.098\n",
       "party[T.citizens]                -0.0023      0.062     -0.037      0.970      -0.128       0.123\n",
       "party[T.conservative]            -0.0092      0.062     -0.148      0.883      -0.135       0.116\n",
       "party[T.constitution party]      -0.0065      0.054     -0.122      0.904      -0.115       0.102\n",
       "party[T.democrat]                 0.4391      0.046      9.578      0.000       0.347       0.532\n",
       "party[T.green]                   -0.0020      0.049     -0.040      0.968      -0.101       0.097\n",
       "party[T.independent]              0.0220      0.047      0.468      0.642      -0.073       0.117\n",
       "party[T.independent green]       -0.0078      0.062     -0.126      0.900      -0.133       0.118\n",
       "party[T.libertarian]             -0.0029      0.046     -0.063      0.950      -0.096       0.090\n",
       "party[T.natural law]             -0.0080      0.062     -0.128      0.899      -0.133       0.117\n",
       "party[T.reform party]             0.0242      0.054      0.451      0.654      -0.084       0.133\n",
       "party[T.republican]               0.4999      0.046     10.903      0.000       0.407       0.592\n",
       "party[T.socialist workers]       -0.0041      0.054     -0.075      0.940      -0.113       0.105\n",
       "party[T.u.s. labor]              -0.0054      0.062     -0.087      0.931      -0.131       0.120\n",
       "party[T.u.s. taxpayers party]    -0.0042      0.062     -0.067      0.947      -0.130       0.121\n",
       "==============================================================================\n",
       "Omnibus:                       11.251   Durbin-Watson:                   2.749\n",
       "Prob(Omnibus):                  0.004   Jarque-Bera (JB):               12.066\n",
       "Skew:                           0.858   Prob(JB):                      0.00240\n",
       "Kurtosis:                       4.491   Cond. No.                         31.5\n",
       "==============================================================================\n",
       "\n",
       "Warnings:\n",
       "[1] Standard Errors assume that the covariance matrix of the errors is correctly specified.\n",
       "\"\"\""
      ]
     },
     "execution_count": 13,
     "metadata": {},
     "output_type": "execute_result"
    }
   ],
   "source": [
    "state_leaning('Virginia')\n",
    "# According to the data, Virginia has historically voted for Republicans."
   ]
  },
  {
   "cell_type": "code",
   "execution_count": 14,
   "metadata": {},
   "outputs": [],
   "source": [
    "# Create a line graph function for data between republican and democrat party.\n",
    "def voting_graph(x=''):\n",
    "    state_name = df[df['state']==x]\n",
    "    rep = state_name[state_name['party']=='republican']\n",
    "    dem = state_name[state_name['party']=='democrat']\n",
    "    plt.figure(figsize=(15,7))\n",
    "    plt.plot(rep.year, rep.candidatevotes, label='Republican',color='red')\n",
    "    plt.plot(dem.year, dem.candidatevotes, label='Democrat', color='blue')\n",
    "    plt.title('Republican vs. Democrat')\n",
    "    plt.grid(True)\n",
    "    plt.legend()\n",
    "    plt.show()"
   ]
  },
  {
   "cell_type": "code",
   "execution_count": 15,
   "metadata": {},
   "outputs": [
    {
     "data": {
      "image/png": "[encoded data removed]",
      "text/plain": [
       "<Figure size 1080x504 with 1 Axes>"
      ]
     },
     "metadata": {
      "needs_background": "light"
     },
     "output_type": "display_data"
    }
   ],
   "source": [
    "voting_graph('Virginia')\n",
    "# As you can see from the graph, virginia has historically voted for Republicans. Only in the past two elections has Virginia voted for Democrats."
   ]
  },
  {
   "cell_type": "code",
   "execution_count": 16,
   "metadata": {},
   "outputs": [],
   "source": [
    "# Create bar chart between Republicans and Democrats in election years. \n",
    "def state_chart(x=''):\n",
    "    state_name = df[df['state']==x]\n",
    "    rep = state_name[state_name['party']=='republican']\n",
    "    dem = state_name[state_name['party']=='democrat']\n",
    "    date = ['1976','1980','1984','1988','1992','1996','2000','2004','2008','2012','2016']\n",
    "    N = 11\n",
    "    width = .1\n",
    "    ind = np.arange(len(date))\n",
    "    plt.bar(ind - 0.2, rep.candidatevotes, width=.4, label='Rep',color='red')\n",
    "    plt.bar(ind + 0.2, dem.candidatevotes, width=.4, label='Dem',color='blue')\n",
    "    plt.ylabel('Votes')\n",
    "    plt.xlabel('Year')\n",
    "    plt.title('Republican vs Democrat Votes')\n",
    "    plt.xticks(ind,date)\n",
    "    plt.grid(True)\n",
    "    plt.legend(loc='best')\n",
    "    plt.show()\n",
    "    "
   ]
  },
  {
   "cell_type": "code",
   "execution_count": 17,
   "metadata": {},
   "outputs": [
    {
     "data": {
      "image/png": "[encoded data removed]",
      "text/plain": [
       "<Figure size 432x288 with 1 Axes>"
      ]
     },
     "metadata": {
      "needs_background": "light"
     },
     "output_type": "display_data"
    }
   ],
   "source": [
    "state_chart('Virginia')"
   ]
  },
  {
   "cell_type": "code",
   "execution_count": 18,
   "metadata": {},
   "outputs": [
    {
     "data": {
      "image/png": "[encoded data removed]",
      "text/plain": [
       "<Figure size 1080x504 with 1 Axes>"
      ]
     },
     "metadata": {
      "needs_background": "light"
     },
     "output_type": "display_data"
    }
   ],
   "source": [
    "voting_graph('Indiana')"
   ]
  },
  {
   "cell_type": "code",
   "execution_count": 19,
   "metadata": {},
   "outputs": [
    {
     "data": {
      "image/png": "[encoded data removed]",
      "text/plain": [
       "<Figure size 432x288 with 1 Axes>"
      ]
     },
     "metadata": {
      "needs_background": "light"
     },
     "output_type": "display_data"
    }
   ],
   "source": [
    "state_chart('Indiana')"
   ]
  },
  {
   "cell_type": "code",
   "execution_count": null,
   "metadata": {},
   "outputs": [],
   "source": []
  }
 ],
 "metadata": {
  "kernelspec": {
   "display_name": "Python 3",
   "language": "python",
   "name": "python3"
  },
  "language_info": {
   "codemirror_mode": {
    "name": "ipython",
    "version": 3
   },
   "file_extension": ".py",
   "mimetype": "text/x-python",
   "name": "python",
   "nbconvert_exporter": "python",
   "pygments_lexer": "ipython3",
   "version": "3.8.3"
  }
 },
 "nbformat": 4,
 "nbformat_minor": 4
}
